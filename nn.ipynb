{
 "cells": [
  {
   "cell_type": "code",
   "execution_count": 4,
   "metadata": {},
   "outputs": [],
   "source": [
    "import numpy as np\n",
    "import math\n",
    "import matplotlib.pyplot as plt\n",
    "from keras.datasets import mnist"
   ]
  },
  {
   "cell_type": "code",
   "execution_count": 5,
   "metadata": {},
   "outputs": [],
   "source": [
    "class neuralNetwork:\n",
    "    def __init__(self, layers: tuple) -> None:\n",
    "        self.L = len(layers)\n",
    "        self.layers = layers\n",
    "        self.W = []\n",
    "        for i in range(self.L-1):\n",
    "            self.W.append(np.random.normal(0,1,(layers[i+1],layers[i])))\n",
    "        self.B = [np.random.normal(0,1,i) for i in layers[1:]]"
   ]
  },
  {
   "cell_type": "code",
   "execution_count": 7,
   "metadata": {},
   "outputs": [],
   "source": [
    "def ReLU(n):\n",
    "    return max(0, n)\n",
    "\n",
    "def dReLU(n):\n",
    "    return int(n>0)\n",
    "# print(dReLU(100))\n",
    "\n",
    "def sigmoid(n):\n",
    "    if n<0:\n",
    "        return 1 - 1 / (1 + math.exp(n))\n",
    "    return 1 / (1 + math.exp(-1*n))\n",
    "\n",
    "def dSigmoid(n):\n",
    "    return sigmoid(n)*(1-sigmoid(n))\n",
    "\n",
    "def cost(Y, Ytarget):\n",
    "    return sum([(Y[i]-Ytarget[i])**2 for i in range(len(Ytarget))])\n",
    "\n",
    "def dCost(Y, Ytarget):\n",
    "    return [2*(Y[i]-Ytarget[i]) for i in range(len(Ytarget))]\n",
    "\n",
    "def npArrMap(func: callable, npArr: np.ndarray):\n",
    "    return np.array(list(map(func, npArr)))"
   ]
  },
  {
   "cell_type": "code",
   "execution_count": 11,
   "metadata": {},
   "outputs": [],
   "source": [
    "def forwprop(network: neuralNetwork, X):\n",
    "    A = []\n",
    "    Z = []\n",
    "    for i in range(network.L-1):\n",
    "        Z.append(network.W[i].dot(X if i==0 else A[i-1]) + network.B[i])\n",
    "        A.append(npArrMap(sigmoid, Z[i]))\n",
    "    return Z, A"
   ]
  },
  {
   "cell_type": "code",
   "execution_count": 22,
   "metadata": {},
   "outputs": [],
   "source": [
    "def backprop(network: neuralNetwork, Z, A, X, Y):\n",
    "    dZ = [None] * (network.L-1)\n",
    "    dW = [None] * (network.L-1)\n",
    "    dB = [None] * (network.L-1)\n",
    "    for i in range(network.L-1)[::-1]:\n",
    "        dZ[i] = (dCost(A[i],Y) if i==network.L-2 else network.W[i+1].T.dot(dZ[i+1])) * npArrMap(dSigmoid,Z[i])\n",
    "        dW[i] = np.outer(dZ[i],(X if i==0 else A[i-1]))\n",
    "        dB[i] = dZ[i]\n",
    "    return dW, dB"
   ]
  },
  {
   "cell_type": "code",
   "execution_count": 13,
   "metadata": {},
   "outputs": [],
   "source": [
    "def train(network: neuralNetwork, dataX, dataY, learningRate=0.15, batchSize=20, epoch=40):\n",
    "    batchNum = len(dataX)//batchSize\n",
    "    dataX = np.reshape(dataX[: batchNum*batchSize],(batchNum, batchSize, -1))\n",
    "    dataY = np.reshape(dataY[: batchNum*batchSize],(batchNum, batchSize, -1))\n",
    "    for en in range(epoch):\n",
    "        predictions = []\n",
    "        for batch in range(batchNum):\n",
    "            dWList = []\n",
    "            dBList = []\n",
    "            for i in range(batchSize):\n",
    "                Z, A = forwprop(network, dataX[batch][i])\n",
    "                predictions.append(int(A[-1].argmax() == dataY[batch][i].argmax()))\n",
    "                dW, dB = backprop(network, Z, A, dataX[batch][i], dataY[batch][i])\n",
    "                dWList.append(dW)\n",
    "                dBList.append(dB)\n",
    "            for i in range(network.L-1):\n",
    "                network.W[i] -= learningRate * sum([dWList[j][i] for j in range(batchSize)]) / batchSize\n",
    "                network.B[i] -= learningRate * sum([dBList[j][i] for j in range(batchSize)]) / batchSize\n",
    "\n",
    "        print(f\"epoch: {en+1}, accuracy: {sum(predictions)/len(predictions)}\")"
   ]
  },
  {
   "cell_type": "code",
   "execution_count": 14,
   "metadata": {},
   "outputs": [],
   "source": [
    "def test(network: neuralNetwork, dataX, dataY):\n",
    "    predictions = []\n",
    "    for i in range(len(dataX)):\n",
    "        A = forwprop(network, dataX[i])[1]\n",
    "        predictions.append(int(A[-1].argmax() == dataY[i].argmax()))\n",
    "    print(f\"accuracy: {sum(predictions)/len(predictions)}\")"
   ]
  },
  {
   "cell_type": "code",
   "execution_count": 15,
   "metadata": {},
   "outputs": [],
   "source": [
    "def getPrediction(network: neuralNetwork, X):\n",
    "    return forwprop(network, X)[1][-1].argmax()"
   ]
  },
  {
   "cell_type": "code",
   "execution_count": 16,
   "metadata": {},
   "outputs": [],
   "source": [
    "def oneHotEncode(labels: np.ndarray, size):\n",
    "    return np.eye(size)[labels]"
   ]
  },
  {
   "cell_type": "code",
   "execution_count": 24,
   "metadata": {},
   "outputs": [],
   "source": [
    "network1 = neuralNetwork((784, 20, 20, 10))"
   ]
  },
  {
   "cell_type": "code",
   "execution_count": 26,
   "metadata": {},
   "outputs": [],
   "source": [
    "(x_train, y_train), (x_test, y_test) = mnist.load_data()\n",
    "trainSize=60000\n",
    "x_train = np.array(x_train)[:trainSize].reshape((trainSize,784)) / 255\n",
    "y_train = oneHotEncode(np.array(y_train)[:trainSize], 10)\n",
    "x_test = np.array(x_test)[:10000].reshape((10000,784)) / 255\n",
    "y_test  = oneHotEncode(np.array(y_test)[:10000], 10)"
   ]
  },
  {
   "cell_type": "code",
   "execution_count": 27,
   "metadata": {},
   "outputs": [
    {
     "name": "stdout",
     "output_type": "stream",
     "text": [
      "epoch: 1, accuracy: 0.31406666666666666\n",
      "epoch: 2, accuracy: 0.5407333333333333\n",
      "epoch: 3, accuracy: 0.6501833333333333\n",
      "epoch: 4, accuracy: 0.7102\n",
      "epoch: 5, accuracy: 0.7513833333333333\n",
      "epoch: 6, accuracy: 0.7800833333333334\n",
      "epoch: 7, accuracy: 0.80255\n",
      "epoch: 8, accuracy: 0.8184833333333333\n",
      "epoch: 9, accuracy: 0.8314166666666667\n",
      "epoch: 10, accuracy: 0.84255\n",
      "epoch: 11, accuracy: 0.8517666666666667\n",
      "epoch: 12, accuracy: 0.8591666666666666\n",
      "epoch: 13, accuracy: 0.86555\n",
      "epoch: 14, accuracy: 0.8712\n",
      "epoch: 15, accuracy: 0.8748666666666667\n",
      "epoch: 16, accuracy: 0.8787333333333334\n",
      "epoch: 17, accuracy: 0.8826166666666667\n",
      "epoch: 18, accuracy: 0.8859333333333334\n",
      "epoch: 19, accuracy: 0.8888833333333334\n",
      "epoch: 20, accuracy: 0.8915\n",
      "epoch: 21, accuracy: 0.89375\n",
      "epoch: 22, accuracy: 0.8956166666666666\n",
      "epoch: 23, accuracy: 0.8973166666666667\n",
      "epoch: 24, accuracy: 0.89915\n",
      "epoch: 25, accuracy: 0.9008666666666667\n",
      "epoch: 26, accuracy: 0.9027166666666666\n",
      "epoch: 27, accuracy: 0.9042666666666667\n",
      "epoch: 28, accuracy: 0.9053833333333333\n",
      "epoch: 29, accuracy: 0.90685\n",
      "epoch: 30, accuracy: 0.9083166666666667\n",
      "epoch: 31, accuracy: 0.9094\n",
      "epoch: 32, accuracy: 0.9106666666666666\n",
      "epoch: 33, accuracy: 0.9118833333333334\n",
      "epoch: 34, accuracy: 0.9126833333333333\n",
      "epoch: 35, accuracy: 0.9138\n",
      "epoch: 36, accuracy: 0.91485\n",
      "epoch: 37, accuracy: 0.91555\n",
      "epoch: 38, accuracy: 0.9163666666666667\n",
      "epoch: 39, accuracy: 0.9170833333333334\n",
      "epoch: 40, accuracy: 0.9178666666666667\n",
      "accuracy: 0.9131\n"
     ]
    }
   ],
   "source": [
    "train(network1, x_train, y_train, 0.15, 50, 40)\n",
    "test(network1, x_test, y_test)"
   ]
  },
  {
   "cell_type": "code",
   "execution_count": 31,
   "metadata": {},
   "outputs": [
    {
     "name": "stdout",
     "output_type": "stream",
     "text": [
      "2 [2]\n"
     ]
    },
    {
     "data": {
      "image/png": "[encoded data removed]",
      "text/plain": [
       "<Figure size 640x480 with 1 Axes>"
      ]
     },
     "metadata": {},
     "output_type": "display_data"
    }
   ],
   "source": [
    "plt.imshow(np.reshape(x_test[1337], (28, 28)),cmap='gray')\n",
    "print(getPrediction(network1, x_test[1337]), np.where(y_test[1337] == 1)[0])"
   ]
  }
 ],
 "metadata": {
  "kernelspec": {
   "display_name": "Python 3.10.4 64-bit",
   "language": "python",
   "name": "python3"
  },
  "language_info": {
   "codemirror_mode": {
    "name": "ipython",
    "version": 3
   },
   "file_extension": ".py",
   "mimetype": "text/x-python",
   "name": "python",
   "nbconvert_exporter": "python",
   "pygments_lexer": "ipython3",
   "version": "3.8.10"
  },
  "orig_nbformat": 4,
  "vscode": {
   "interpreter": {
    "hash": "ac264ea50d8dc072e024a732236158399cf8f18bc0a1874ab5df782617c61cde"
   }
  }
 },
 "nbformat": 4,
 "nbformat_minor": 2
}
